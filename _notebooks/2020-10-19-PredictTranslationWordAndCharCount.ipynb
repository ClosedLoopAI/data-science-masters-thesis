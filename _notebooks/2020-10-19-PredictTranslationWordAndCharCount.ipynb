{
  "nbformat": 4,
  "nbformat_minor": 0,
  "metadata": {
    "colab": {
      "name": "PredictTranslationWordAndCharCount.ipynb",
      "provenance": [],
      "collapsed_sections": []
    },
    "kernelspec": {
      "display_name": "Python 3",
      "language": "python",
      "name": "python3"
    },
    "language_info": {
      "codemirror_mode": {
        "name": "ipython",
        "version": 3
      },
      "file_extension": ".py",
      "mimetype": "text/x-python",
      "name": "python",
      "nbconvert_exporter": "python",
      "pygments_lexer": "ipython3",
      "version": "3.7.1"
    },
    "accelerator": "GPU"
  },
  "cells": [
    {
      "cell_type": "markdown",
      "metadata": {
        "id": "Mt2by5jfGZXp"
      },
      "source": [
        "# **Predict Translation Word And Char Count**\n",
        "\n",
        "> Prediction of translated Word/Char Count is used as a Quality and/or Validation Check\n",
        "- toc: true\n",
        "- branch: master\n",
        "- badges: false\n",
        "- comments: true\n",
        "- hide: false\n",
        "- search_exclude: true\n",
        "- metadata_key1: metadata_value1\n",
        "- metadata_key2: metadata_value2\n",
        "- image: images/PredictTranslationWordAndCharCount.png\n",
        "- categories: [Deep Learning,Time series,Regression,   Python,fastai]\n",
        "- show_tags: true"
      ]
    },
    {
      "cell_type": "markdown",
      "metadata": {
        "id": "09eIhpac_Pxv"
      },
      "source": [
        "# **Predict Translation Word And Char Count**"
      ]
    },
    {
      "cell_type": "code",
      "metadata": {
        "id": "BQgIzxw3_yGJ",
        "outputId": "83a7b77b-4083-4a9d-fcac-0d88192e16ea",
        "colab": {
          "base_uri": "https://localhost:8080/",
          "height": 34
        }
      },
      "source": [
        "#hide\n",
        "from google.colab import drive\n",
        "drive.mount('/content/gdrive', force_remount=True)\n",
        "root_dir = \"/content/gdrive/My Drive/\"\n",
        "base_dir = root_dir + 'TODANALYTICS/'\n",
        "# base_dir = \"\""
      ],
      "execution_count": 2,
      "outputs": [
        {
          "output_type": "stream",
          "text": [
            "Mounted at /content/gdrive\n"
          ],
          "name": "stdout"
        }
      ]
    },
    {
      "cell_type": "code",
      "metadata": {
        "id": "pLqktmY-o7bc",
        "outputId": "9e4ed3e4-76b4-4ecb-9cc1-a65526f9c040",
        "colab": {
          "base_uri": "https://localhost:8080/",
          "height": 212
        }
      },
      "source": [
        "# # ! pip install fastai\n",
        "# ! pip install fastai2\n",
        "# ! pip install nbdev\n",
        "\n",
        "!pip install -Uqq fastbook\n",
        "import fastbook\n",
        "fastbook.setup_book()"
      ],
      "execution_count": 3,
      "outputs": [
        {
          "output_type": "stream",
          "text": [
            "\u001b[K     |████████████████████████████████| 727kB 8.6MB/s \n",
            "\u001b[K     |████████████████████████████████| 51kB 8.1MB/s \n",
            "\u001b[K     |████████████████████████████████| 194kB 22.8MB/s \n",
            "\u001b[K     |████████████████████████████████| 51kB 8.2MB/s \n",
            "\u001b[K     |████████████████████████████████| 1.0MB 28.0MB/s \n",
            "\u001b[K     |████████████████████████████████| 51kB 8.1MB/s \n",
            "\u001b[K     |████████████████████████████████| 92kB 12.6MB/s \n",
            "\u001b[K     |████████████████████████████████| 40kB 7.2MB/s \n",
            "\u001b[K     |████████████████████████████████| 51kB 8.5MB/s \n",
            "\u001b[K     |████████████████████████████████| 61kB 9.1MB/s \n",
            "\u001b[K     |████████████████████████████████| 2.6MB 53.4MB/s \n",
            "\u001b[?25h"
          ],
          "name": "stdout"
        }
      ]
    },
    {
      "cell_type": "code",
      "metadata": {
        "id": "FOJZ0YUwbji7"
      },
      "source": [
        "# ! pip list | grep fastai\n",
        "! pip list | grep fastai2"
      ],
      "execution_count": 4,
      "outputs": []
    },
    {
      "cell_type": "code",
      "metadata": {
        "id": "AaowuJW8o7HW"
      },
      "source": [
        "from fastai.tabular.all import *\n",
        "from fastbook import *\n",
        "\n",
        "# from fastai.tabular.all import *\n",
        "# # from fastai2.tabular.all import *"
      ],
      "execution_count": 5,
      "outputs": []
    },
    {
      "cell_type": "code",
      "metadata": {
        "id": "rE4UnJNcbOBN"
      },
      "source": [
        "import seaborn as sns\n",
        "# import os\n",
        "# import json\n",
        "%matplotlib inline"
      ],
      "execution_count": 6,
      "outputs": []
    },
    {
      "cell_type": "code",
      "metadata": {
        "id": "fuzLgwJ_pV7x",
        "outputId": "a95472f2-b811-4cd3-bd6c-6734d37fed7b",
        "colab": {
          "base_uri": "https://localhost:8080/",
          "height": 34
        }
      },
      "source": [
        "!python --version"
      ],
      "execution_count": 7,
      "outputs": [
        {
          "output_type": "stream",
          "text": [
            "Python 3.6.9\n"
          ],
          "name": "stdout"
        }
      ]
    },
    {
      "cell_type": "code",
      "metadata": {
        "id": "Z6upeMKCpVqJ",
        "outputId": "aa0ffe25-db8e-450d-d25c-618a2ec251b6",
        "colab": {
          "base_uri": "https://localhost:8080/",
          "height": 34
        }
      },
      "source": [
        "# PATH='./'\n",
        "PATH = Path(base_dir + './'); PATH"
      ],
      "execution_count": 8,
      "outputs": [
        {
          "output_type": "execute_result",
          "data": {
            "text/plain": [
              "Path('/content/gdrive/My Drive/TODANALYTICS')"
            ]
          },
          "metadata": {
            "tags": []
          },
          "execution_count": 8
        }
      ]
    },
    {
      "cell_type": "markdown",
      "metadata": {
        "id": "R80xB0h9ou4G"
      },
      "source": [
        "# Get train/valid data"
      ]
    },
    {
      "cell_type": "code",
      "metadata": {
        "id": "5nkhVX8BKlqX"
      },
      "source": [
        "def display_all(df):\n",
        "    with pd.option_context(\"display.max_rows\", 1000, \"display.max_columns\", 1000): \n",
        "        display(df)"
      ],
      "execution_count": 9,
      "outputs": []
    },
    {
      "cell_type": "markdown",
      "metadata": {
        "id": "k77sODYUCj_U"
      },
      "source": [
        "## Ingest all E-contributions"
      ]
    },
    {
      "cell_type": "code",
      "metadata": {
        "id": "Pi0-AfMZC7_I",
        "outputId": "7f01e223-aa9b-42f9-a580-0ba610ae1e33",
        "colab": {
          "base_uri": "https://localhost:8080/",
          "height": 1000
        }
      },
      "source": [
        "# df_E = pd.read_csv(f'{PATH}/contributions/1955-0807y_Pride_ENG_15-0401-b_E-contributions.csv', sep='~')\n",
        "# df_E = pd.read_csv(f'{PATH}/contributions/1965-0829_SatansEden_ENG_15-1104-b_E-contributions.csv', sep='~')\n",
        "\n",
        "all_files = glob.glob(f\"{PATH}/contributions/*E-contributions.csv\")\n",
        "li = []\n",
        "for filename in all_files:\n",
        "    dft = pd.read_csv(filename, index_col=None, header=0, sep='~')\n",
        "    li.append(dft)\n",
        "df_E = pd.concat(li, axis=0, ignore_index=True)\n",
        "\n",
        "df_E.head()"
      ],
      "execution_count": 10,
      "outputs": [
        {
          "output_type": "execute_result",
          "data": {
            "text/html": [
              "<div>\n",
              "<style scoped>\n",
              "    .dataframe tbody tr th:only-of-type {\n",
              "        vertical-align: middle;\n",
              "    }\n",
              "\n",
              "    .dataframe tbody tr th {\n",
              "        vertical-align: top;\n",
              "    }\n",
              "\n",
              "    .dataframe thead th {\n",
              "        text-align: right;\n",
              "    }\n",
              "</style>\n",
              "<table border=\"1\" class=\"dataframe\">\n",
              "  <thead>\n",
              "    <tr style=\"text-align: right;\">\n",
              "      <th></th>\n",
              "      <th>m_descriptor</th>\n",
              "      <th>t_lan</th>\n",
              "      <th>t_senc</th>\n",
              "      <th>t_version</th>\n",
              "      <th>s_typ</th>\n",
              "      <th>s_rsen</th>\n",
              "      <th>e_id</th>\n",
              "      <th>e_top</th>\n",
              "      <th>be_id</th>\n",
              "      <th>be_top</th>\n",
              "      <th>c_id</th>\n",
              "      <th>c_created_at</th>\n",
              "      <th>c_kind</th>\n",
              "      <th>c_eis</th>\n",
              "      <th>c_base</th>\n",
              "      <th>a_role</th>\n",
              "      <th>u_name</th>\n",
              "      <th>e_content</th>\n",
              "    </tr>\n",
              "  </thead>\n",
              "  <tbody>\n",
              "    <tr>\n",
              "      <th>0</th>\n",
              "      <td>1965-0418x</td>\n",
              "      <td>ENG</td>\n",
              "      <td>1870</td>\n",
              "      <td>18-0101-E1R</td>\n",
              "      <td>n</td>\n",
              "      <td>1</td>\n",
              "      <td>174684</td>\n",
              "      <td>Z</td>\n",
              "      <td>NaN</td>\n",
              "      <td>NaN</td>\n",
              "      <td>224461</td>\n",
              "      <td>2018-03-29 23:10:24.573038</td>\n",
              "      <td>E</td>\n",
              "      <td>0</td>\n",
              "      <td>NaN</td>\n",
              "      <td>EP</td>\n",
              "      <td>kobest</td>\n",
              "      <td>Let us bow our heads.</td>\n",
              "    </tr>\n",
              "    <tr>\n",
              "      <th>1</th>\n",
              "      <td>1965-0418x</td>\n",
              "      <td>ENG</td>\n",
              "      <td>1870</td>\n",
              "      <td>18-0101-E1R</td>\n",
              "      <td>n</td>\n",
              "      <td>2</td>\n",
              "      <td>174685</td>\n",
              "      <td>Z</td>\n",
              "      <td>NaN</td>\n",
              "      <td>NaN</td>\n",
              "      <td>224462</td>\n",
              "      <td>2018-03-29 23:10:24.595501</td>\n",
              "      <td>E</td>\n",
              "      <td>0</td>\n",
              "      <td>NaN</td>\n",
              "      <td>EP</td>\n",
              "      <td>kobest</td>\n",
              "      <td>Lord, as we gather here this fine Easter morning, see the little buds pressing their way out, the bees flying in and getting their portion, the birds singing like their hearts would burst with joy, because there is an Easter.</td>\n",
              "    </tr>\n",
              "    <tr>\n",
              "      <th>2</th>\n",
              "      <td>1965-0418x</td>\n",
              "      <td>ENG</td>\n",
              "      <td>1870</td>\n",
              "      <td>18-0101-E1R</td>\n",
              "      <td>n</td>\n",
              "      <td>3</td>\n",
              "      <td>174686</td>\n",
              "      <td>Z</td>\n",
              "      <td>NaN</td>\n",
              "      <td>NaN</td>\n",
              "      <td>224463</td>\n",
              "      <td>2018-03-29 23:10:24.628362</td>\n",
              "      <td>E</td>\n",
              "      <td>0</td>\n",
              "      <td>NaN</td>\n",
              "      <td>EP</td>\n",
              "      <td>kobest</td>\n",
              "      <td>We believe that You raised up Jesus from the dead, many years ago, today, and we celebrate this memorial day.</td>\n",
              "    </tr>\n",
              "    <tr>\n",
              "      <th>3</th>\n",
              "      <td>1965-0418x</td>\n",
              "      <td>ENG</td>\n",
              "      <td>1870</td>\n",
              "      <td>18-0101-E1R</td>\n",
              "      <td>n</td>\n",
              "      <td>4</td>\n",
              "      <td>174687</td>\n",
              "      <td>Z</td>\n",
              "      <td>NaN</td>\n",
              "      <td>NaN</td>\n",
              "      <td>224464</td>\n",
              "      <td>2018-03-29 23:10:24.650119</td>\n",
              "      <td>E</td>\n",
              "      <td>0</td>\n",
              "      <td>NaN</td>\n",
              "      <td>EP</td>\n",
              "      <td>kobest</td>\n",
              "      <td>And let there come an Easter among us all, today.</td>\n",
              "    </tr>\n",
              "    <tr>\n",
              "      <th>4</th>\n",
              "      <td>1965-0418x</td>\n",
              "      <td>ENG</td>\n",
              "      <td>1870</td>\n",
              "      <td>18-0101-E1R</td>\n",
              "      <td>n</td>\n",
              "      <td>5</td>\n",
              "      <td>174688</td>\n",
              "      <td>Z</td>\n",
              "      <td>NaN</td>\n",
              "      <td>NaN</td>\n",
              "      <td>224465</td>\n",
              "      <td>2018-03-29 23:10:24.670806</td>\n",
              "      <td>E</td>\n",
              "      <td>0</td>\n",
              "      <td>NaN</td>\n",
              "      <td>EP</td>\n",
              "      <td>kobest</td>\n",
              "      <td>May we, as His servants, understand His Word, that we were in His fellowship then, and that now that we are risen with Him and setting together in Heavenly places.</td>\n",
              "    </tr>\n",
              "  </tbody>\n",
              "</table>\n",
              "</div>"
            ],
            "text/plain": [
              "  m_descriptor t_lan  t_senc    t_version s_typ  s_rsen    e_id e_top  be_id  \\\n",
              "0   1965-0418x   ENG    1870  18-0101-E1R     n       1  174684     Z    NaN   \n",
              "1   1965-0418x   ENG    1870  18-0101-E1R     n       2  174685     Z    NaN   \n",
              "2   1965-0418x   ENG    1870  18-0101-E1R     n       3  174686     Z    NaN   \n",
              "3   1965-0418x   ENG    1870  18-0101-E1R     n       4  174687     Z    NaN   \n",
              "4   1965-0418x   ENG    1870  18-0101-E1R     n       5  174688     Z    NaN   \n",
              "\n",
              "   be_top    c_id                c_created_at c_kind  c_eis  c_base a_role  \\\n",
              "0     NaN  224461  2018-03-29 23:10:24.573038      E      0     NaN     EP   \n",
              "1     NaN  224462  2018-03-29 23:10:24.595501      E      0     NaN     EP   \n",
              "2     NaN  224463  2018-03-29 23:10:24.628362      E      0     NaN     EP   \n",
              "3     NaN  224464  2018-03-29 23:10:24.650119      E      0     NaN     EP   \n",
              "4     NaN  224465  2018-03-29 23:10:24.670806      E      0     NaN     EP   \n",
              "\n",
              "   u_name  \\\n",
              "0  kobest   \n",
              "1  kobest   \n",
              "2  kobest   \n",
              "3  kobest   \n",
              "4  kobest   \n",
              "\n",
              "                                                                                                                                                                                                                           e_content  \n",
              "0                                                                                                                                                                                                              Let us bow our heads.  \n",
              "1  Lord, as we gather here this fine Easter morning, see the little buds pressing their way out, the bees flying in and getting their portion, the birds singing like their hearts would burst with joy, because there is an Easter.  \n",
              "2                                                                                                                      We believe that You raised up Jesus from the dead, many years ago, today, and we celebrate this memorial day.  \n",
              "3                                                                                                                                                                                  And let there come an Easter among us all, today.  \n",
              "4                                                                May we, as His servants, understand His Word, that we were in His fellowship then, and that now that we are risen with Him and setting together in Heavenly places.  "
            ]
          },
          "metadata": {
            "tags": []
          },
          "execution_count": 10
        }
      ]
    },
    {
      "cell_type": "code",
      "metadata": {
        "id": "FCJRUzLmhU8m",
        "outputId": "bbde37c9-a788-49c0-ec74-9e4cc42b7151",
        "colab": {
          "base_uri": "https://localhost:8080/",
          "height": 297
        }
      },
      "source": [
        "#remove if not used to debug\n",
        "df_E = df_E.drop(['e_id','t_senc','s_typ','e_top','be_id','be_top','c_created_at','c_kind','c_eis','c_base','a_role','u_name'], axis=1) #each record now unique\n",
        "df_E.head()"
      ],
      "execution_count": 11,
      "outputs": [
        {
          "output_type": "execute_result",
          "data": {
            "text/html": [
              "<div>\n",
              "<style scoped>\n",
              "    .dataframe tbody tr th:only-of-type {\n",
              "        vertical-align: middle;\n",
              "    }\n",
              "\n",
              "    .dataframe tbody tr th {\n",
              "        vertical-align: top;\n",
              "    }\n",
              "\n",
              "    .dataframe thead th {\n",
              "        text-align: right;\n",
              "    }\n",
              "</style>\n",
              "<table border=\"1\" class=\"dataframe\">\n",
              "  <thead>\n",
              "    <tr style=\"text-align: right;\">\n",
              "      <th></th>\n",
              "      <th>m_descriptor</th>\n",
              "      <th>t_lan</th>\n",
              "      <th>t_version</th>\n",
              "      <th>s_rsen</th>\n",
              "      <th>c_id</th>\n",
              "      <th>e_content</th>\n",
              "    </tr>\n",
              "  </thead>\n",
              "  <tbody>\n",
              "    <tr>\n",
              "      <th>0</th>\n",
              "      <td>1965-0418x</td>\n",
              "      <td>ENG</td>\n",
              "      <td>18-0101-E1R</td>\n",
              "      <td>1</td>\n",
              "      <td>224461</td>\n",
              "      <td>Let us bow our heads.</td>\n",
              "    </tr>\n",
              "    <tr>\n",
              "      <th>1</th>\n",
              "      <td>1965-0418x</td>\n",
              "      <td>ENG</td>\n",
              "      <td>18-0101-E1R</td>\n",
              "      <td>2</td>\n",
              "      <td>224462</td>\n",
              "      <td>Lord, as we gather here this fine Easter morning, see the little buds pressing their way out, the bees flying in and getting their portion, the birds singing like their hearts would burst with joy, because there is an Easter.</td>\n",
              "    </tr>\n",
              "    <tr>\n",
              "      <th>2</th>\n",
              "      <td>1965-0418x</td>\n",
              "      <td>ENG</td>\n",
              "      <td>18-0101-E1R</td>\n",
              "      <td>3</td>\n",
              "      <td>224463</td>\n",
              "      <td>We believe that You raised up Jesus from the dead, many years ago, today, and we celebrate this memorial day.</td>\n",
              "    </tr>\n",
              "    <tr>\n",
              "      <th>3</th>\n",
              "      <td>1965-0418x</td>\n",
              "      <td>ENG</td>\n",
              "      <td>18-0101-E1R</td>\n",
              "      <td>4</td>\n",
              "      <td>224464</td>\n",
              "      <td>And let there come an Easter among us all, today.</td>\n",
              "    </tr>\n",
              "    <tr>\n",
              "      <th>4</th>\n",
              "      <td>1965-0418x</td>\n",
              "      <td>ENG</td>\n",
              "      <td>18-0101-E1R</td>\n",
              "      <td>5</td>\n",
              "      <td>224465</td>\n",
              "      <td>May we, as His servants, understand His Word, that we were in His fellowship then, and that now that we are risen with Him and setting together in Heavenly places.</td>\n",
              "    </tr>\n",
              "  </tbody>\n",
              "</table>\n",
              "</div>"
            ],
            "text/plain": [
              "  m_descriptor t_lan    t_version  s_rsen    c_id  \\\n",
              "0   1965-0418x   ENG  18-0101-E1R       1  224461   \n",
              "1   1965-0418x   ENG  18-0101-E1R       2  224462   \n",
              "2   1965-0418x   ENG  18-0101-E1R       3  224463   \n",
              "3   1965-0418x   ENG  18-0101-E1R       4  224464   \n",
              "4   1965-0418x   ENG  18-0101-E1R       5  224465   \n",
              "\n",
              "                                                                                                                                                                                                                           e_content  \n",
              "0                                                                                                                                                                                                              Let us bow our heads.  \n",
              "1  Lord, as we gather here this fine Easter morning, see the little buds pressing their way out, the bees flying in and getting their portion, the birds singing like their hearts would burst with joy, because there is an Easter.  \n",
              "2                                                                                                                      We believe that You raised up Jesus from the dead, many years ago, today, and we celebrate this memorial day.  \n",
              "3                                                                                                                                                                                  And let there come an Easter among us all, today.  \n",
              "4                                                                May we, as His servants, understand His Word, that we were in His fellowship then, and that now that we are risen with Him and setting together in Heavenly places.  "
            ]
          },
          "metadata": {
            "tags": []
          },
          "execution_count": 11
        }
      ]
    },
    {
      "cell_type": "code",
      "metadata": {
        "id": "_M2nhRBVUnyW",
        "outputId": "a57ad2ed-43d2-49b3-ddf3-a3db8a47333d",
        "colab": {
          "base_uri": "https://localhost:8080/",
          "height": 107
        }
      },
      "source": [
        "#handle NaNs in e_content\n",
        "e_content_nans = df_E['e_content'].isna()\n",
        "df_E[e_content_nans]"
      ],
      "execution_count": 12,
      "outputs": [
        {
          "output_type": "execute_result",
          "data": {
            "text/html": [
              "<div>\n",
              "<style scoped>\n",
              "    .dataframe tbody tr th:only-of-type {\n",
              "        vertical-align: middle;\n",
              "    }\n",
              "\n",
              "    .dataframe tbody tr th {\n",
              "        vertical-align: top;\n",
              "    }\n",
              "\n",
              "    .dataframe thead th {\n",
              "        text-align: right;\n",
              "    }\n",
              "</style>\n",
              "<table border=\"1\" class=\"dataframe\">\n",
              "  <thead>\n",
              "    <tr style=\"text-align: right;\">\n",
              "      <th></th>\n",
              "      <th>m_descriptor</th>\n",
              "      <th>t_lan</th>\n",
              "      <th>t_version</th>\n",
              "      <th>s_rsen</th>\n",
              "      <th>c_id</th>\n",
              "      <th>e_content</th>\n",
              "    </tr>\n",
              "  </thead>\n",
              "  <tbody>\n",
              "    <tr>\n",
              "      <th>33415</th>\n",
              "      <td>1956-0805</td>\n",
              "      <td>ENG</td>\n",
              "      <td>15-0402-b</td>\n",
              "      <td>1176</td>\n",
              "      <td>454335</td>\n",
              "      <td>NaN</td>\n",
              "    </tr>\n",
              "    <tr>\n",
              "      <th>43018</th>\n",
              "      <td>1957-0419</td>\n",
              "      <td>ENG</td>\n",
              "      <td>15-0401-b</td>\n",
              "      <td>505</td>\n",
              "      <td>13306</td>\n",
              "      <td>NaN</td>\n",
              "    </tr>\n",
              "  </tbody>\n",
              "</table>\n",
              "</div>"
            ],
            "text/plain": [
              "      m_descriptor t_lan  t_version  s_rsen    c_id e_content\n",
              "33415    1956-0805   ENG  15-0402-b    1176  454335       NaN\n",
              "43018    1957-0419   ENG  15-0401-b     505   13306       NaN"
            ]
          },
          "metadata": {
            "tags": []
          },
          "execution_count": 12
        }
      ]
    },
    {
      "cell_type": "code",
      "metadata": {
        "id": "1kDcWYDhUnyZ",
        "outputId": "4a7e75a8-b98a-488d-96ca-c2214a761223",
        "colab": {
          "base_uri": "https://localhost:8080/",
          "height": 107
        }
      },
      "source": [
        "#replace e_content NaNs with empty strings\n",
        "df_E.loc[e_content_nans, 'e_content'] = ''\n",
        "# df_E.loc[e_content_nans, ['e_content']]\n",
        "# OR\n",
        "df_E[df_E['e_content']=='']"
      ],
      "execution_count": 13,
      "outputs": [
        {
          "output_type": "execute_result",
          "data": {
            "text/html": [
              "<div>\n",
              "<style scoped>\n",
              "    .dataframe tbody tr th:only-of-type {\n",
              "        vertical-align: middle;\n",
              "    }\n",
              "\n",
              "    .dataframe tbody tr th {\n",
              "        vertical-align: top;\n",
              "    }\n",
              "\n",
              "    .dataframe thead th {\n",
              "        text-align: right;\n",
              "    }\n",
              "</style>\n",
              "<table border=\"1\" class=\"dataframe\">\n",
              "  <thead>\n",
              "    <tr style=\"text-align: right;\">\n",
              "      <th></th>\n",
              "      <th>m_descriptor</th>\n",
              "      <th>t_lan</th>\n",
              "      <th>t_version</th>\n",
              "      <th>s_rsen</th>\n",
              "      <th>c_id</th>\n",
              "      <th>e_content</th>\n",
              "    </tr>\n",
              "  </thead>\n",
              "  <tbody>\n",
              "    <tr>\n",
              "      <th>33415</th>\n",
              "      <td>1956-0805</td>\n",
              "      <td>ENG</td>\n",
              "      <td>15-0402-b</td>\n",
              "      <td>1176</td>\n",
              "      <td>454335</td>\n",
              "      <td></td>\n",
              "    </tr>\n",
              "    <tr>\n",
              "      <th>43018</th>\n",
              "      <td>1957-0419</td>\n",
              "      <td>ENG</td>\n",
              "      <td>15-0401-b</td>\n",
              "      <td>505</td>\n",
              "      <td>13306</td>\n",
              "      <td></td>\n",
              "    </tr>\n",
              "  </tbody>\n",
              "</table>\n",
              "</div>"
            ],
            "text/plain": [
              "      m_descriptor t_lan  t_version  s_rsen    c_id e_content\n",
              "33415    1956-0805   ENG  15-0402-b    1176  454335          \n",
              "43018    1957-0419   ENG  15-0401-b     505   13306          "
            ]
          },
          "metadata": {
            "tags": []
          },
          "execution_count": 13
        }
      ]
    },
    {
      "cell_type": "code",
      "metadata": {
        "id": "0r_n3S8CFQX8",
        "outputId": "d1d23cc6-b1f1-442d-af7f-99f013d8973e",
        "colab": {
          "base_uri": "https://localhost:8080/",
          "height": 314
        }
      },
      "source": [
        "#add chars column\n",
        "df_E['chars'] = [len(e) for e in df_E['e_content']]\n",
        "# df_E['chars'] = [len(e) if type(e)==str else 1 for e in df_E['e_content']]\n",
        "df_E.head()"
      ],
      "execution_count": 14,
      "outputs": [
        {
          "output_type": "execute_result",
          "data": {
            "text/html": [
              "<div>\n",
              "<style scoped>\n",
              "    .dataframe tbody tr th:only-of-type {\n",
              "        vertical-align: middle;\n",
              "    }\n",
              "\n",
              "    .dataframe tbody tr th {\n",
              "        vertical-align: top;\n",
              "    }\n",
              "\n",
              "    .dataframe thead th {\n",
              "        text-align: right;\n",
              "    }\n",
              "</style>\n",
              "<table border=\"1\" class=\"dataframe\">\n",
              "  <thead>\n",
              "    <tr style=\"text-align: right;\">\n",
              "      <th></th>\n",
              "      <th>m_descriptor</th>\n",
              "      <th>t_lan</th>\n",
              "      <th>t_version</th>\n",
              "      <th>s_rsen</th>\n",
              "      <th>c_id</th>\n",
              "      <th>e_content</th>\n",
              "      <th>chars</th>\n",
              "    </tr>\n",
              "  </thead>\n",
              "  <tbody>\n",
              "    <tr>\n",
              "      <th>0</th>\n",
              "      <td>1965-0418x</td>\n",
              "      <td>ENG</td>\n",
              "      <td>18-0101-E1R</td>\n",
              "      <td>1</td>\n",
              "      <td>224461</td>\n",
              "      <td>Let us bow our heads.</td>\n",
              "      <td>21</td>\n",
              "    </tr>\n",
              "    <tr>\n",
              "      <th>1</th>\n",
              "      <td>1965-0418x</td>\n",
              "      <td>ENG</td>\n",
              "      <td>18-0101-E1R</td>\n",
              "      <td>2</td>\n",
              "      <td>224462</td>\n",
              "      <td>Lord, as we gather here this fine Easter morning, see the little buds pressing their way out, the bees flying in and getting their portion, the birds singing like their hearts would burst with joy, because there is an Easter.</td>\n",
              "      <td>225</td>\n",
              "    </tr>\n",
              "    <tr>\n",
              "      <th>2</th>\n",
              "      <td>1965-0418x</td>\n",
              "      <td>ENG</td>\n",
              "      <td>18-0101-E1R</td>\n",
              "      <td>3</td>\n",
              "      <td>224463</td>\n",
              "      <td>We believe that You raised up Jesus from the dead, many years ago, today, and we celebrate this memorial day.</td>\n",
              "      <td>109</td>\n",
              "    </tr>\n",
              "    <tr>\n",
              "      <th>3</th>\n",
              "      <td>1965-0418x</td>\n",
              "      <td>ENG</td>\n",
              "      <td>18-0101-E1R</td>\n",
              "      <td>4</td>\n",
              "      <td>224464</td>\n",
              "      <td>And let there come an Easter among us all, today.</td>\n",
              "      <td>49</td>\n",
              "    </tr>\n",
              "    <tr>\n",
              "      <th>4</th>\n",
              "      <td>1965-0418x</td>\n",
              "      <td>ENG</td>\n",
              "      <td>18-0101-E1R</td>\n",
              "      <td>5</td>\n",
              "      <td>224465</td>\n",
              "      <td>May we, as His servants, understand His Word, that we were in His fellowship then, and that now that we are risen with Him and setting together in Heavenly places.</td>\n",
              "      <td>163</td>\n",
              "    </tr>\n",
              "  </tbody>\n",
              "</table>\n",
              "</div>"
            ],
            "text/plain": [
              "  m_descriptor t_lan    t_version  s_rsen    c_id  \\\n",
              "0   1965-0418x   ENG  18-0101-E1R       1  224461   \n",
              "1   1965-0418x   ENG  18-0101-E1R       2  224462   \n",
              "2   1965-0418x   ENG  18-0101-E1R       3  224463   \n",
              "3   1965-0418x   ENG  18-0101-E1R       4  224464   \n",
              "4   1965-0418x   ENG  18-0101-E1R       5  224465   \n",
              "\n",
              "                                                                                                                                                                                                                           e_content  \\\n",
              "0                                                                                                                                                                                                              Let us bow our heads.   \n",
              "1  Lord, as we gather here this fine Easter morning, see the little buds pressing their way out, the bees flying in and getting their portion, the birds singing like their hearts would burst with joy, because there is an Easter.   \n",
              "2                                                                                                                      We believe that You raised up Jesus from the dead, many years ago, today, and we celebrate this memorial day.   \n",
              "3                                                                                                                                                                                  And let there come an Easter among us all, today.   \n",
              "4                                                                May we, as His servants, understand His Word, that we were in His fellowship then, and that now that we are risen with Him and setting together in Heavenly places.   \n",
              "\n",
              "   chars  \n",
              "0     21  \n",
              "1    225  \n",
              "2    109  \n",
              "3     49  \n",
              "4    163  "
            ]
          },
          "metadata": {
            "tags": []
          },
          "execution_count": 14
        }
      ]
    },
    {
      "cell_type": "code",
      "metadata": {
        "id": "-dXalW80XAiP",
        "outputId": "b9d658c9-39d6-4c64-8a6c-a023bb70eb08",
        "colab": {
          "base_uri": "https://localhost:8080/",
          "height": 107
        }
      },
      "source": [
        "# df_E.loc[e_content_nans, ['e_content','chars']]\n",
        "# OR\n",
        "df_E[df_E['chars']==0]"
      ],
      "execution_count": 15,
      "outputs": [
        {
          "output_type": "execute_result",
          "data": {
            "text/html": [
              "<div>\n",
              "<style scoped>\n",
              "    .dataframe tbody tr th:only-of-type {\n",
              "        vertical-align: middle;\n",
              "    }\n",
              "\n",
              "    .dataframe tbody tr th {\n",
              "        vertical-align: top;\n",
              "    }\n",
              "\n",
              "    .dataframe thead th {\n",
              "        text-align: right;\n",
              "    }\n",
              "</style>\n",
              "<table border=\"1\" class=\"dataframe\">\n",
              "  <thead>\n",
              "    <tr style=\"text-align: right;\">\n",
              "      <th></th>\n",
              "      <th>m_descriptor</th>\n",
              "      <th>t_lan</th>\n",
              "      <th>t_version</th>\n",
              "      <th>s_rsen</th>\n",
              "      <th>c_id</th>\n",
              "      <th>e_content</th>\n",
              "      <th>chars</th>\n",
              "    </tr>\n",
              "  </thead>\n",
              "  <tbody>\n",
              "    <tr>\n",
              "      <th>33415</th>\n",
              "      <td>1956-0805</td>\n",
              "      <td>ENG</td>\n",
              "      <td>15-0402-b</td>\n",
              "      <td>1176</td>\n",
              "      <td>454335</td>\n",
              "      <td></td>\n",
              "      <td>0</td>\n",
              "    </tr>\n",
              "    <tr>\n",
              "      <th>43018</th>\n",
              "      <td>1957-0419</td>\n",
              "      <td>ENG</td>\n",
              "      <td>15-0401-b</td>\n",
              "      <td>505</td>\n",
              "      <td>13306</td>\n",
              "      <td></td>\n",
              "      <td>0</td>\n",
              "    </tr>\n",
              "  </tbody>\n",
              "</table>\n",
              "</div>"
            ],
            "text/plain": [
              "      m_descriptor t_lan  t_version  s_rsen    c_id e_content  chars\n",
              "33415    1956-0805   ENG  15-0402-b    1176  454335                0\n",
              "43018    1957-0419   ENG  15-0401-b     505   13306                0"
            ]
          },
          "metadata": {
            "tags": []
          },
          "execution_count": 15
        }
      ]
    },
    {
      "cell_type": "code",
      "metadata": {
        "id": "M2CoxmlAIJxQ",
        "outputId": "96b75368-cea3-43ee-f708-aab9e0cee3e4",
        "colab": {
          "base_uri": "https://localhost:8080/",
          "height": 331
        }
      },
      "source": [
        "#add words column\n",
        "#https://www.geeksforgeeks.org/python-program-to-count-words-in-a-sentence/\n",
        "df_E['words'] = [len(re.findall(r'\\w+', e)) for e in df_E['e_content']]\n",
        "df_E.head()"
      ],
      "execution_count": 16,
      "outputs": [
        {
          "output_type": "execute_result",
          "data": {
            "text/html": [
              "<div>\n",
              "<style scoped>\n",
              "    .dataframe tbody tr th:only-of-type {\n",
              "        vertical-align: middle;\n",
              "    }\n",
              "\n",
              "    .dataframe tbody tr th {\n",
              "        vertical-align: top;\n",
              "    }\n",
              "\n",
              "    .dataframe thead th {\n",
              "        text-align: right;\n",
              "    }\n",
              "</style>\n",
              "<table border=\"1\" class=\"dataframe\">\n",
              "  <thead>\n",
              "    <tr style=\"text-align: right;\">\n",
              "      <th></th>\n",
              "      <th>m_descriptor</th>\n",
              "      <th>t_lan</th>\n",
              "      <th>t_version</th>\n",
              "      <th>s_rsen</th>\n",
              "      <th>c_id</th>\n",
              "      <th>e_content</th>\n",
              "      <th>chars</th>\n",
              "      <th>words</th>\n",
              "    </tr>\n",
              "  </thead>\n",
              "  <tbody>\n",
              "    <tr>\n",
              "      <th>0</th>\n",
              "      <td>1965-0418x</td>\n",
              "      <td>ENG</td>\n",
              "      <td>18-0101-E1R</td>\n",
              "      <td>1</td>\n",
              "      <td>224461</td>\n",
              "      <td>Let us bow our heads.</td>\n",
              "      <td>21</td>\n",
              "      <td>5</td>\n",
              "    </tr>\n",
              "    <tr>\n",
              "      <th>1</th>\n",
              "      <td>1965-0418x</td>\n",
              "      <td>ENG</td>\n",
              "      <td>18-0101-E1R</td>\n",
              "      <td>2</td>\n",
              "      <td>224462</td>\n",
              "      <td>Lord, as we gather here this fine Easter morning, see the little buds pressing their way out, the bees flying in and getting their portion, the birds singing like their hearts would burst with joy, because there is an Easter.</td>\n",
              "      <td>225</td>\n",
              "      <td>40</td>\n",
              "    </tr>\n",
              "    <tr>\n",
              "      <th>2</th>\n",
              "      <td>1965-0418x</td>\n",
              "      <td>ENG</td>\n",
              "      <td>18-0101-E1R</td>\n",
              "      <td>3</td>\n",
              "      <td>224463</td>\n",
              "      <td>We believe that You raised up Jesus from the dead, many years ago, today, and we celebrate this memorial day.</td>\n",
              "      <td>109</td>\n",
              "      <td>20</td>\n",
              "    </tr>\n",
              "    <tr>\n",
              "      <th>3</th>\n",
              "      <td>1965-0418x</td>\n",
              "      <td>ENG</td>\n",
              "      <td>18-0101-E1R</td>\n",
              "      <td>4</td>\n",
              "      <td>224464</td>\n",
              "      <td>And let there come an Easter among us all, today.</td>\n",
              "      <td>49</td>\n",
              "      <td>10</td>\n",
              "    </tr>\n",
              "    <tr>\n",
              "      <th>4</th>\n",
              "      <td>1965-0418x</td>\n",
              "      <td>ENG</td>\n",
              "      <td>18-0101-E1R</td>\n",
              "      <td>5</td>\n",
              "      <td>224465</td>\n",
              "      <td>May we, as His servants, understand His Word, that we were in His fellowship then, and that now that we are risen with Him and setting together in Heavenly places.</td>\n",
              "      <td>163</td>\n",
              "      <td>30</td>\n",
              "    </tr>\n",
              "  </tbody>\n",
              "</table>\n",
              "</div>"
            ],
            "text/plain": [
              "  m_descriptor t_lan    t_version  s_rsen    c_id  \\\n",
              "0   1965-0418x   ENG  18-0101-E1R       1  224461   \n",
              "1   1965-0418x   ENG  18-0101-E1R       2  224462   \n",
              "2   1965-0418x   ENG  18-0101-E1R       3  224463   \n",
              "3   1965-0418x   ENG  18-0101-E1R       4  224464   \n",
              "4   1965-0418x   ENG  18-0101-E1R       5  224465   \n",
              "\n",
              "                                                                                                                                                                                                                           e_content  \\\n",
              "0                                                                                                                                                                                                              Let us bow our heads.   \n",
              "1  Lord, as we gather here this fine Easter morning, see the little buds pressing their way out, the bees flying in and getting their portion, the birds singing like their hearts would burst with joy, because there is an Easter.   \n",
              "2                                                                                                                      We believe that You raised up Jesus from the dead, many years ago, today, and we celebrate this memorial day.   \n",
              "3                                                                                                                                                                                  And let there come an Easter among us all, today.   \n",
              "4                                                                May we, as His servants, understand His Word, that we were in His fellowship then, and that now that we are risen with Him and setting together in Heavenly places.   \n",
              "\n",
              "   chars  words  \n",
              "0     21      5  \n",
              "1    225     40  \n",
              "2    109     20  \n",
              "3     49     10  \n",
              "4    163     30  "
            ]
          },
          "metadata": {
            "tags": []
          },
          "execution_count": 16
        }
      ]
    },
    {
      "cell_type": "code",
      "metadata": {
        "id": "dwR144LaMwDZ",
        "outputId": "9398dc07-2f8c-4364-9dbc-677d4d620c98",
        "colab": {
          "base_uri": "https://localhost:8080/",
          "height": 297
        }
      },
      "source": [
        "#remove BER from t_version\n",
        "df_E['t_version'] = ['-'.join(e.split('-')[:2]) for e in df_E['t_version']]\n",
        "df_E.head()"
      ],
      "execution_count": 17,
      "outputs": [
        {
          "output_type": "execute_result",
          "data": {
            "text/html": [
              "<div>\n",
              "<style scoped>\n",
              "    .dataframe tbody tr th:only-of-type {\n",
              "        vertical-align: middle;\n",
              "    }\n",
              "\n",
              "    .dataframe tbody tr th {\n",
              "        vertical-align: top;\n",
              "    }\n",
              "\n",
              "    .dataframe thead th {\n",
              "        text-align: right;\n",
              "    }\n",
              "</style>\n",
              "<table border=\"1\" class=\"dataframe\">\n",
              "  <thead>\n",
              "    <tr style=\"text-align: right;\">\n",
              "      <th></th>\n",
              "      <th>m_descriptor</th>\n",
              "      <th>t_lan</th>\n",
              "      <th>t_version</th>\n",
              "      <th>s_rsen</th>\n",
              "      <th>c_id</th>\n",
              "      <th>e_content</th>\n",
              "      <th>chars</th>\n",
              "      <th>words</th>\n",
              "    </tr>\n",
              "  </thead>\n",
              "  <tbody>\n",
              "    <tr>\n",
              "      <th>0</th>\n",
              "      <td>1965-0418x</td>\n",
              "      <td>ENG</td>\n",
              "      <td>18-0101</td>\n",
              "      <td>1</td>\n",
              "      <td>224461</td>\n",
              "      <td>Let us bow our heads.</td>\n",
              "      <td>21</td>\n",
              "      <td>5</td>\n",
              "    </tr>\n",
              "    <tr>\n",
              "      <th>1</th>\n",
              "      <td>1965-0418x</td>\n",
              "      <td>ENG</td>\n",
              "      <td>18-0101</td>\n",
              "      <td>2</td>\n",
              "      <td>224462</td>\n",
              "      <td>Lord, as we gather here this fine Easter morning, see the little buds pressing their way out, the bees flying in and getting their portion, the birds singing like their hearts would burst with joy, because there is an Easter.</td>\n",
              "      <td>225</td>\n",
              "      <td>40</td>\n",
              "    </tr>\n",
              "    <tr>\n",
              "      <th>2</th>\n",
              "      <td>1965-0418x</td>\n",
              "      <td>ENG</td>\n",
              "      <td>18-0101</td>\n",
              "      <td>3</td>\n",
              "      <td>224463</td>\n",
              "      <td>We believe that You raised up Jesus from the dead, many years ago, today, and we celebrate this memorial day.</td>\n",
              "      <td>109</td>\n",
              "      <td>20</td>\n",
              "    </tr>\n",
              "    <tr>\n",
              "      <th>3</th>\n",
              "      <td>1965-0418x</td>\n",
              "      <td>ENG</td>\n",
              "      <td>18-0101</td>\n",
              "      <td>4</td>\n",
              "      <td>224464</td>\n",
              "      <td>And let there come an Easter among us all, today.</td>\n",
              "      <td>49</td>\n",
              "      <td>10</td>\n",
              "    </tr>\n",
              "    <tr>\n",
              "      <th>4</th>\n",
              "      <td>1965-0418x</td>\n",
              "      <td>ENG</td>\n",
              "      <td>18-0101</td>\n",
              "      <td>5</td>\n",
              "      <td>224465</td>\n",
              "      <td>May we, as His servants, understand His Word, that we were in His fellowship then, and that now that we are risen with Him and setting together in Heavenly places.</td>\n",
              "      <td>163</td>\n",
              "      <td>30</td>\n",
              "    </tr>\n",
              "  </tbody>\n",
              "</table>\n",
              "</div>"
            ],
            "text/plain": [
              "  m_descriptor t_lan t_version  s_rsen    c_id  \\\n",
              "0   1965-0418x   ENG   18-0101       1  224461   \n",
              "1   1965-0418x   ENG   18-0101       2  224462   \n",
              "2   1965-0418x   ENG   18-0101       3  224463   \n",
              "3   1965-0418x   ENG   18-0101       4  224464   \n",
              "4   1965-0418x   ENG   18-0101       5  224465   \n",
              "\n",
              "                                                                                                                                                                                                                           e_content  \\\n",
              "0                                                                                                                                                                                                              Let us bow our heads.   \n",
              "1  Lord, as we gather here this fine Easter morning, see the little buds pressing their way out, the bees flying in and getting their portion, the birds singing like their hearts would burst with joy, because there is an Easter.   \n",
              "2                                                                                                                      We believe that You raised up Jesus from the dead, many years ago, today, and we celebrate this memorial day.   \n",
              "3                                                                                                                                                                                  And let there come an Easter among us all, today.   \n",
              "4                                                                May we, as His servants, understand His Word, that we were in His fellowship then, and that now that we are risen with Him and setting together in Heavenly places.   \n",
              "\n",
              "   chars  words  \n",
              "0     21      5  \n",
              "1    225     40  \n",
              "2    109     20  \n",
              "3     49     10  \n",
              "4    163     30  "
            ]
          },
          "metadata": {
            "tags": []
          },
          "execution_count": 17
        }
      ]
    },
    {
      "cell_type": "markdown",
      "metadata": {
        "id": "fEMTWBVFCtax"
      },
      "source": [
        "## Ingest all V-contributions"
      ]
    },
    {
      "cell_type": "code",
      "metadata": {
        "id": "VZrEERCPylnk"
      },
      "source": [
        ""
      ],
      "execution_count": null,
      "outputs": []
    },
    {
      "cell_type": "code",
      "metadata": {
        "id": "ffoCdG9rylDt"
      },
      "source": [
        ""
      ],
      "execution_count": null,
      "outputs": []
    }
  ]
}